{
 "cells": [
  {
   "cell_type": "code",
   "execution_count": 1,
   "id": "8e1c8211-aa75-4c3e-ae81-b70edab297d8",
   "metadata": {},
   "outputs": [],
   "source": [
    "import os\n",
    "import csv\n",
    "import codecs"
   ]
  },
  {
   "cell_type": "code",
   "execution_count": 2,
   "id": "a8261b21-ea7a-4728-a513-834ce22e8e01",
   "metadata": {},
   "outputs": [],
   "source": [
    "line_filepath = \"data/movie_lines.txt\"\n",
    "conv_filepath = \"data/movie_conversations.txt\""
   ]
  },
  {
   "cell_type": "code",
   "execution_count": 3,
   "id": "72553e72-cc42-4ca5-a0fb-d76cea06171b",
   "metadata": {},
   "outputs": [
    {
     "name": "stdout",
     "output_type": "stream",
     "text": [
      "L1045 +++$+++ u0 +++$+++ m0 +++$+++ BIANCA +++$+++ They do not!\n",
      "L1044 +++$+++ u2 +++$+++ m0 +++$+++ CAMERON +++$+++ They do to!\n",
      "L985 +++$+++ u0 +++$+++ m0 +++$+++ BIANCA +++$+++ I hope so.\n",
      "L984 +++$+++ u2 +++$+++ m0 +++$+++ CAMERON +++$+++ She okay?\n",
      "L925 +++$+++ u0 +++$+++ m0 +++$+++ BIANCA +++$+++ Let's go.\n",
      "L924 +++$+++ u2 +++$+++ m0 +++$+++ CAMERON +++$+++ Wow\n",
      "L872 +++$+++ u0 +++$+++ m0 +++$+++ BIANCA +++$+++ Okay -- you're gonna need to learn how to lie.\n",
      "L871 +++$+++ u2 +++$+++ m0 +++$+++ CAMERON +++$+++ No\n"
     ]
    }
   ],
   "source": [
    "#Visualizing some of the lines\n",
    "with open(line_filepath, \"r\") as f:\n",
    "    lines = f.readlines()\n",
    "for line in lines[:8]:\n",
    "    print(line.strip())"
   ]
  },
  {
   "cell_type": "code",
   "execution_count": 4,
   "id": "7ff8fc2c-0d79-46cb-890d-77f68829a979",
   "metadata": {},
   "outputs": [],
   "source": [
    "#Splits Each Line of the file into a dictionary of fields (LineID, charecterID, movieID, charecter and text)\n",
    "fields = [\"lineid\", \"charecterid\", \"movieid\", \"charecter\", \"text\"]\n",
    "lines = {}\n",
    "with open(line_filepath, \"r\", encoding=\"iso-8859-1\") as f:\n",
    "    for line in f:\n",
    "        values = line.split(\" +++$+++ \")\n",
    "        lineobj = {}\n",
    "        for i, field in enumerate(fields):\n",
    "            lineobj[field] = values[i]\n",
    "        lines[lineobj[\"lineid\"]] = lineobj"
   ]
  },
  {
   "cell_type": "code",
   "execution_count": 5,
   "id": "8e5a25b1-6e61-486e-aa81-55c8be7d398d",
   "metadata": {},
   "outputs": [],
   "source": [
    "#Group fields of lines into conversations based on the movie conversations txt file\n",
    "fields = [\"char1id\",\"char2id\",\"movieid\",\"utteranceids\"]\n",
    "conversations = []\n",
    "with open(conv_filepath, \"r\", encoding=\"iso-8859-1\") as f:\n",
    "    for line in f:\n",
    "        values = line.split(\" +++$+++ \")\n",
    "        convobj = {}\n",
    "        for i, field in enumerate(fields):\n",
    "            convobj[field] = values[i]\n",
    "        lineids = eval(convobj[\"utteranceids\"])\n",
    "        convobj[\"lines\"] = []\n",
    "        for lineid in lineids:\n",
    "            convobj[\"lines\"].append(lines[lineid])\n",
    "        conversations.append(convobj)"
   ]
  },
  {
   "cell_type": "code",
   "execution_count": 6,
   "id": "ce334a18-4494-44ac-8b3f-12e42bdd9e91",
   "metadata": {},
   "outputs": [
    {
     "data": {
      "text/plain": [
       "{'char1id': 'u0',\n",
       " 'char2id': 'u2',\n",
       " 'movieid': 'm0',\n",
       " 'utteranceids': \"['L194', 'L195', 'L196', 'L197']\\n\",\n",
       " 'lines': [{'lineid': 'L194',\n",
       "   'charecterid': 'u0',\n",
       "   'movieid': 'm0',\n",
       "   'charecter': 'BIANCA',\n",
       "   'text': 'Can we make this quick?  Roxanne Korrine and Andrew Barrett are having an incredibly horrendous public break- up on the quad.  Again.\\n'},\n",
       "  {'lineid': 'L195',\n",
       "   'charecterid': 'u2',\n",
       "   'movieid': 'm0',\n",
       "   'charecter': 'CAMERON',\n",
       "   'text': \"Well, I thought we'd start with pronunciation, if that's okay with you.\\n\"},\n",
       "  {'lineid': 'L196',\n",
       "   'charecterid': 'u0',\n",
       "   'movieid': 'm0',\n",
       "   'charecter': 'BIANCA',\n",
       "   'text': 'Not the hacking and gagging and spitting part.  Please.\\n'},\n",
       "  {'lineid': 'L197',\n",
       "   'charecterid': 'u2',\n",
       "   'movieid': 'm0',\n",
       "   'charecter': 'CAMERON',\n",
       "   'text': \"Okay... then how 'bout we try out some French cuisine.  Saturday?  Night?\\n\"}]}"
      ]
     },
     "execution_count": 6,
     "metadata": {},
     "output_type": "execute_result"
    }
   ],
   "source": [
    "conversations[0]"
   ]
  },
  {
   "cell_type": "code",
   "execution_count": 7,
   "id": "289a9114-1fd3-4d72-a0f6-3a38c4f40529",
   "metadata": {},
   "outputs": [],
   "source": [
    "qa_pairs = []\n",
    "for conversation in conversations:\n",
    "    for i in range(len(conversation[\"lines\"]) - 1):\n",
    "        question = conversation[\"lines\"][i][\"text\"].strip()\n",
    "        response = conversation[\"lines\"][i + 1][\"text\"].strip()\n",
    "        if question and response:\n",
    "            qa_pairs.append([question, response])"
   ]
  },
  {
   "cell_type": "code",
   "execution_count": 8,
   "id": "c4a6391a-f775-4d98-92df-72f5f88aa7c9",
   "metadata": {},
   "outputs": [
    {
     "data": {
      "text/plain": [
       "['Can we make this quick?  Roxanne Korrine and Andrew Barrett are having an incredibly horrendous public break- up on the quad.  Again.',\n",
       " \"Well, I thought we'd start with pronunciation, if that's okay with you.\"]"
      ]
     },
     "execution_count": 8,
     "metadata": {},
     "output_type": "execute_result"
    }
   ],
   "source": [
    "qa_pairs[0]"
   ]
  },
  {
   "cell_type": "code",
   "execution_count": 9,
   "id": "19cb24ac-b12c-4625-9f23-f83cebee346c",
   "metadata": {},
   "outputs": [],
   "source": [
    "#Saving the formatted Data\n",
    "filepath = \"data/formatted_movie_lines.txt\"\n",
    "delimeter = \"\\t\"\n",
    "\n",
    "delimeter = str(codecs.decode(delimeter,\"unicode_escape\"))\n",
    "\n",
    "with open(filepath, \"w\", encoding=\"utf-8\") as out:\n",
    "    writer = csv.writer(out,delimiter=delimeter)\n",
    "    for pair in qa_pairs:\n",
    "        writer.writerow(pair)"
   ]
  },
  {
   "cell_type": "code",
   "execution_count": null,
   "id": "e073d322-ab76-4cab-a4e6-5d610b77b8fb",
   "metadata": {},
   "outputs": [],
   "source": []
  }
 ],
 "metadata": {
  "kernelspec": {
   "display_name": "Python [conda env:llms]",
   "language": "python",
   "name": "conda-env-llms-py"
  },
  "language_info": {
   "codemirror_mode": {
    "name": "ipython",
    "version": 3
   },
   "file_extension": ".py",
   "mimetype": "text/x-python",
   "name": "python",
   "nbconvert_exporter": "python",
   "pygments_lexer": "ipython3",
   "version": "3.11.13"
  }
 },
 "nbformat": 4,
 "nbformat_minor": 5
}
