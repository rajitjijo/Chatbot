{
 "cells": [
  {
   "cell_type": "code",
   "execution_count": 5,
   "id": "813affc6-2221-4f91-8beb-615c898d89e7",
   "metadata": {},
   "outputs": [],
   "source": [
    "import optuna\n",
    "from preprocessing import get_pairs, batch2traindata\n",
    "import torch\n",
    "import torch.nn as nn\n",
    "from model import *\n",
    "from NLLLoss import maskNLLLoss\n",
    "from dataset import ChatDataset\n",
    "from Vocabulary import vocabulary"
   ]
  },
  {
   "cell_type": "code",
   "execution_count": 6,
   "id": "dbe82afb-6ad7-4be4-a65a-f7ad6dc5eb2c",
   "metadata": {},
   "outputs": [
    {
     "name": "stdout",
     "output_type": "stream",
     "text": [
      "Loading Dataset\n",
      "After trimming kept 62810 out of 75026 pairs of conversations.\n",
      "Dataset Loaded\n"
     ]
    }
   ],
   "source": [
    "print(\"Loading Dataset\")\n",
    "datafile = \"data/formatted_movie_lines.txt\"\n",
    "#set up vocab object\n",
    "vocab = vocabulary(\"Cornell_Movie_Dialogues\")\n",
    "#build dataset\n",
    "pairs, vocab = get_pairs(datafile, vocab)\n",
    "chatdata = ChatDataset(pairs)\n",
    "print(\"Dataset Loaded\")"
   ]
  },
  {
   "cell_type": "code",
   "execution_count": 8,
   "id": "1aea159e-82f9-4b46-91b6-90ac76c688ff",
   "metadata": {},
   "outputs": [],
   "source": [
    " #make the dataloader object\n",
    "dataloader = torch.utils.data.DataLoader(chatdata, batch_size=64, shuffle=True, collate_fn=lambda b:batch2traindata(vocab,b))"
   ]
  },
  {
   "cell_type": "code",
   "execution_count": 11,
   "id": "c112bf98-7cd8-40ad-8dfb-a2de9a992583",
   "metadata": {},
   "outputs": [
    {
     "data": {
      "text/plain": [
       "torch.utils.data.dataloader.DataLoader"
      ]
     },
     "execution_count": 11,
     "metadata": {},
     "output_type": "execute_result"
    }
   ],
   "source": [
    "type(dataloader)"
   ]
  },
  {
   "cell_type": "code",
   "execution_count": null,
   "id": "4e7780f1-89d0-4fad-8d72-1f42a9e587f8",
   "metadata": {},
   "outputs": [],
   "source": []
  }
 ],
 "metadata": {
  "kernelspec": {
   "display_name": "Python [conda env:llms]",
   "language": "python",
   "name": "conda-env-llms-py"
  },
  "language_info": {
   "codemirror_mode": {
    "name": "ipython",
    "version": 3
   },
   "file_extension": ".py",
   "mimetype": "text/x-python",
   "name": "python",
   "nbconvert_exporter": "python",
   "pygments_lexer": "ipython3",
   "version": "3.11.13"
  }
 },
 "nbformat": 4,
 "nbformat_minor": 5
}
